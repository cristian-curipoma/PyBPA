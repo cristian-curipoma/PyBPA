{
 "cells": [
  {
   "cell_type": "markdown",
   "metadata": {},
   "source": [
    "<h1 style=\"text-align:center\"><span style=\"color:#2f4f4f; font-family:Georgia\"> BPApy (Biofuels Potential Analysis with Python)</h1>"
   ]
  },
  {
   "cell_type": "markdown",
   "metadata": {},
   "source": [
    "<span style=\"color:#2f4f4f; font-family:Georgia\"> This is a package made with the objective of analyzing data from solid biomass analisis. This with the objective of determining the potential of different biomass sources for their use as or for biofuels production. BPApy is composed by four main modules, each one has the methods for importing, pre-processing, analyzing and finally reporting the information contained in the database. "
   ]
  },
  {
   "cell_type": "markdown",
   "metadata": {},
   "source": [
    "## <span style=\"color:#2f4f4f; font-family:Georgia\"> BPApy Dependencies"
   ]
  },
  {
   "cell_type": "markdown",
   "metadata": {},
   "source": [
    "<span style=\"color:#2f4f4f; font-family:Georgia\"> At the moment this package was written, the most recent versions of Python and all the necesary libraries were as follows:"
   ]
  },
  {
   "cell_type": "markdown",
   "metadata": {},
   "source": [
    "<span style=\"color:#2f4f4f; font-family:Georgia\">\n",
    "    \n",
    "<span style=\"color:#2f4f4f; font-family:Georgia\"> Python version used | <span style=\"color:#2f4f4f; font-family:Georgia\"> Library name | <span style=\"color:#2f4f4f; font-family:Georgia\"> Version used\n",
    ":---:|:------:|:------------:\n",
    "<span style=\"color:#2f4f4f; font-family:Georgia\"> 3 . 8 . 3 | <span style=\"color:#2f4f4f; font-family:Georgia\"> Pandas | <span style=\"color:#2f4f4f; font-family:Georgia\"> 1 . 0 5\n",
    "| <span style=\"color:#2f4f4f; font-family:Georgia\"> Numpy | <span style=\"color:#2f4f4f; font-family:Georgia\"> 1 . 18 . 5\n",
    "| <span style=\"color:#2f4f4f; font-family:Georgia\"> Scipy | <span style=\"color:#2f4f4f; font-family:Georgia\"> 1 . 0 . 5\n",
    "| <span style=\"color:#2f4f4f; font-family:Georgia\"> Matplotlib | <span style=\"color:#2f4f4f; font-family:Georgia\"> 3 . 2 . 2\n",
    "\n"
   ]
  },
  {
   "cell_type": "markdown",
   "metadata": {},
   "source": [
    "<span style=\"color:#2f4f4f; font-family:Georgia\"> If you do not know for your cuurent version of the installed package. The following cell looks for the version of the required libraries, "
   ]
  },
  {
   "cell_type": "markdown",
   "metadata": {},
   "source": [
    "## <span style=\"color:#2f4f4f; font-family:Georgia\"> Package structure"
   ]
  },
  {
   "cell_type": "markdown",
   "metadata": {},
   "source": [
    "<span style=\"color:#2f4f4f; font-family:Georgia\"> As it was said before, this package will be organized in fourth different modules, acording we advance forward data analysis process. This modules will be presented as follows."
   ]
  },
  {
   "cell_type": "markdown",
   "metadata": {},
   "source": [
    "### <span style=\"color:#2f4f4f; font-family:Georgia\"> Importing data: Get_data() module"
   ]
  },
  {
   "cell_type": "markdown",
   "metadata": {},
   "source": [
    "<span style=\"color:#2f4f4f; font-family:Georgia\"> Before to start importing the data, it is necessary to prepare a **.csv** file with the following structure:"
   ]
  },
  {
   "cell_type": "markdown",
   "metadata": {},
   "source": [
    "\n",
    "Lengths | Surfaces | Repeats | Moisture value of each moment in which the sample was weighted.\n",
    ":-------:|:-------:|:--------:|:---------------:\n",
    "0: for length 1 | 0: for surface A | 0: for repeat 1 | Weigth of the sample in $t_{0......n}$\n",
    "0: for length 1 | 0: for surface A | 1: for repeat 2 | Weigth of the sample in $t_{0......n}$\n",
    "0: for length 1 | 1: for surface B | 0: for repeat 1 | Weigth of the sample in $t_{0......n}$\n",
    "0: for length 1 | 1: for surface B | 1: for repeat 2 | Weigth of the sample in $t_{0......n}$\n",
    "1: for length 2 | 0: for surface A | 0: for repeat 1 | Weigth of the sample in $t_{0......n}$\n",
    "1: for length 2 | 0: for surface A | 1: for repeat 2 | Weigth of the sample in $t_{0......n}$\n",
    "1: for length 2 | 1: for surface B | 0: for repeat 1 | Weigth of the sample in $t_{0......n}$\n",
    "1: for length 2 | 1: for surface B | 1: for repeat 2 | Weigth of the sample in $t_{0......n}$\n"
   ]
  },
  {
   "cell_type": "markdown",
   "metadata": {},
   "source": [
    "<span style=\"color:#2f4f4f; font-family:Georgia\"> Get_data module, contains three classes for importing data from dry behavior analysis ***Get_dry_data(file_location, separator)***, proximate analysis ***Get_prox_data(file_location, separator)*** and for ultimate analysis ***Get_elem_data(file_location, separator)***. For each class, it is necesary to create an instance of the class, with two parameter, the absolute or relative **location** of the **.csv** file and the type of separator (comma, colon, semicolon) of each one.  \n",
    "\n",
    "svav"
   ]
  },
  {
   "cell_type": "markdown",
   "metadata": {},
   "source": [
    "### <span style=\"color:#2f4f4f; font-family:Georgia\"> Pre-processing data: Prepare_data() module"
   ]
  },
  {
   "cell_type": "markdown",
   "metadata": {},
   "source": [
    "<span style=\"color:#2f4f4f; font-family:Georgia\"> Prepare_data module, has the attribute <b><i>df_shape</i></b> for getting the dimentions of the data before being analyzed. Also this module has the following methods for pre-processing data:\n",
    "<ol><span style=\"color:#2f4f4f; font-family:Georgia\">\n",
    "    <li><b><i>Prepare_data.desc_stats()</i></b>: Returns a DataFrame structured table containing the basic descriptive statistics of data input.</li>\n",
    "    <li><b><i>Prepare_data.get_data_info()</i></b>: Returns a DataFrame containing the main information about the behavior of moisture through all the process.</li>\n",
    "    <li><b><i>Prepare_data.moisture_in_time()</i></b>: Returns a DataFrame with the change of moisture content in time.</li>\n",
    "    <li><b><i>Prepare_data.free_moisture()</i></b>: Returns a DataFrame with the free moisture content through all the process.</li>\n",
    "    <li><b><i>Prepare_data.moisture_rate(method = None)</i></b>: This method returns a DataFrame with the moisture rate contained in biomass. The parameter \"method = None\" can take the following methods:</li> \n",
    "    <ol>\n",
    "    <li><i><b>method = 'mean_leng_surf'</b></i></li>: This returns a DataFrame containing the average value for moisture rate using as classificators the variables Lengths and Surfaces.\n",
    "    <li><i><b>method = 'mean_leng_surf'</b></i></li>: This returns a DataFrame containing the average value for moisture rate using as classificator the variable Surfaces.\n",
    "    <li><i><b>method = 'mean_leng_surf'</b></i></li>: This returns a DataFrame containing the average value for moisture rate using as classificator the variable Lengths.\n",
    "    </ol>\n",
    "</ol>"
   ]
  },
  {
   "cell_type": "markdown",
   "metadata": {},
   "source": [
    "$M_{R} = \\frac{m_{1}-m_{2}}{m_{2}-m_{3}}$"
   ]
  },
  {
   "cell_type": "markdown",
   "metadata": {},
   "source": [
    "### <span style=\"color:#2f4f4f; font-family:Georgia\"> Analyzing data: Analyze_data() module"
   ]
  },
  {
   "cell_type": "markdown",
   "metadata": {},
   "source": [
    "### <span style=\"color:#2f4f4f; font-family:Georgia\"> Reporting data: Report_data() module"
   ]
  },
  {
   "cell_type": "code",
   "execution_count": null,
   "metadata": {},
   "outputs": [],
   "source": []
  }
 ],
 "metadata": {
  "kernelspec": {
   "display_name": "Python 3",
   "language": "python",
   "name": "python3"
  },
  "language_info": {
   "codemirror_mode": {
    "name": "ipython",
    "version": 3
   },
   "file_extension": ".py",
   "mimetype": "text/x-python",
   "name": "python",
   "nbconvert_exporter": "python",
   "pygments_lexer": "ipython3",
   "version": "3.8.3"
  }
 },
 "nbformat": 4,
 "nbformat_minor": 2
}
