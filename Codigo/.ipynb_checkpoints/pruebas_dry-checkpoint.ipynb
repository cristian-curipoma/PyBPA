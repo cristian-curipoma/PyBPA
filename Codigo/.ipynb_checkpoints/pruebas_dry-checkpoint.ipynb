{
 "cells": [
  {
   "cell_type": "markdown",
   "metadata": {},
   "source": [
    "<h1 align=center> Jupyter Notebook for testing PyBPA package </h1>"
   ]
  },
  {
   "cell_type": "markdown",
   "metadata": {},
   "source": [
    "## Importing required libraries and PyBPA package"
   ]
  },
  {
   "cell_type": "code",
   "execution_count": 1,
   "metadata": {},
   "outputs": [
    {
     "name": "stdout",
     "output_type": "stream",
     "text": [
      "Python 3.8.3\r\n"
     ]
    }
   ],
   "source": [
    "!python --version"
   ]
  },
  {
   "cell_type": "code",
   "execution_count": 2,
   "metadata": {
    "hide_input": false,
    "tags": []
   },
   "outputs": [
    {
     "ename": "ImportError",
     "evalue": "cannot import name 'prep_dry_data' from 'bpapy.Prepare_data' (/home/cristian/Documentos/Tesis_Ikiam/Codigo/bpapy/Prepare_data.py)",
     "output_type": "error",
     "traceback": [
      "\u001b[0;31m---------------------------------------------------------------------------\u001b[0m",
      "\u001b[0;31mImportError\u001b[0m                               Traceback (most recent call last)",
      "\u001b[0;32m<ipython-input-2-37cc3fdfd02a>\u001b[0m in \u001b[0;36m<module>\u001b[0;34m\u001b[0m\n\u001b[1;32m      7\u001b[0m \u001b[0;32mfrom\u001b[0m \u001b[0mbpapy\u001b[0m\u001b[0;34m.\u001b[0m\u001b[0mGet_data\u001b[0m \u001b[0;32mimport\u001b[0m \u001b[0mGet_dry_data\u001b[0m\u001b[0;34m,\u001b[0m \u001b[0mGet_prox_data\u001b[0m\u001b[0;34m,\u001b[0m \u001b[0mGet_elem_data\u001b[0m\u001b[0;34m\u001b[0m\u001b[0;34m\u001b[0m\u001b[0m\n\u001b[1;32m      8\u001b[0m \u001b[0;32mfrom\u001b[0m \u001b[0mbpapy\u001b[0m \u001b[0;32mimport\u001b[0m \u001b[0mPrepare_data\u001b[0m \u001b[0;32mas\u001b[0m \u001b[0mprd\u001b[0m\u001b[0;34m\u001b[0m\u001b[0;34m\u001b[0m\u001b[0m\n\u001b[0;32m----> 9\u001b[0;31m \u001b[0;32mfrom\u001b[0m \u001b[0mbpapy\u001b[0m\u001b[0;34m.\u001b[0m\u001b[0mPrepare_data\u001b[0m \u001b[0;32mimport\u001b[0m \u001b[0mprep_dry_data\u001b[0m\u001b[0;34m\u001b[0m\u001b[0;34m\u001b[0m\u001b[0m\n\u001b[0m",
      "\u001b[0;31mImportError\u001b[0m: cannot import name 'prep_dry_data' from 'bpapy.Prepare_data' (/home/cristian/Documentos/Tesis_Ikiam/Codigo/bpapy/Prepare_data.py)"
     ]
    }
   ],
   "source": [
    "import matplotlib.pyplot as plt\n",
    "import pandas as pd\n",
    "import numpy as np\n",
    "import scipy.stats as st\n",
    "import bpapy\n",
    "\n",
    "from bpapy.Get_data import Get_dry_data, Get_prox_data, Get_elem_data\n",
    "from bpapy.Prepare_data import prep_dry_data"
   ]
  },
  {
   "cell_type": "markdown",
   "metadata": {},
   "source": [
    "## Pandas settings"
   ]
  },
  {
   "cell_type": "code",
   "execution_count": null,
   "metadata": {},
   "outputs": [],
   "source": [
    "pd.options.display.max_rows = 10\n",
    "pd.options.display.max_columns = 15"
   ]
  },
  {
   "cell_type": "markdown",
   "metadata": {},
   "source": [
    "## Create a Python PyBPA object for getting dry data"
   ]
  },
  {
   "cell_type": "code",
   "execution_count": null,
   "metadata": {},
   "outputs": [],
   "source": [
    "Sec = Get_dry_data('./Datos/Secado/secado_sol_aguacate1.csv', ';')\n",
    "df_dry = Sec.Get_dry_df(repeats=3, surfaces=['Cemento', 'Tierra', 'Cesped'], lengths=['10 cm', '20 cm', '30 cm'])"
   ]
  },
  {
   "cell_type": "markdown",
   "metadata": {},
   "source": [
    "## Create a Python PyBPA object for preparing dry data and looking for its attributes  \n",
    "\n",
    "Prepare_data module, has the attribute ***df_shape*** for getting the dimentions of the data before being analyzed. Also this module  has the following methods for pre-processing data:  \n",
    "***desc_stats()*** This method allows us to get a DataFrame structured table containing the basic descriptive statistics of data input.  \n",
    "***get_data_info():*** This method gives a DataFrame containing the main information extracted from the data.  \n",
    "***moisture_in_time():*** This method returns a DataFrame with the change of moisture content in time.  \n",
    "***free_moisture():*** This method returns a DataFrame  with the free moisture contained in the biomass.  \n",
    "**moisture_rate(method = None):** This method returns a DataFrame with the moisture rate contained in biomass. For the parameter ***method*** there are the following options:  \n",
    "+ **method = 'mean' :** This one, will return a DataFrame with the mean of the repeats given.  \n"
   ]
  },
  {
   "cell_type": "code",
   "execution_count": null,
   "metadata": {},
   "outputs": [],
   "source": [
    "df_dry = Sec.Get_dry_df(repeats=3, surfaces=['Cemento', 'Tierra', 'Cesped'], lengths=['10 cm', '20 cm', '30 cm'])\n",
    "m = prep_dry(df_dry)"
   ]
  },
  {
   "cell_type": "code",
   "execution_count": null,
   "metadata": {},
   "outputs": [],
   "source": [
    "data_stats = m.desc_stats()"
   ]
  },
  {
   "cell_type": "code",
   "execution_count": null,
   "metadata": {},
   "outputs": [],
   "source": [
    "dry_info = m.Get_dry_data_info()"
   ]
  },
  {
   "cell_type": "code",
   "execution_count": null,
   "metadata": {},
   "outputs": [],
   "source": [
    "m_in_time = m.moisture_in_time()"
   ]
  },
  {
   "cell_type": "code",
   "execution_count": null,
   "metadata": {},
   "outputs": [],
   "source": [
    "fm_in_time = m.free_moisture()"
   ]
  },
  {
   "cell_type": "code",
   "execution_count": null,
   "metadata": {},
   "outputs": [],
   "source": [
    "mr = m.moisture_rate(method = 'mean')"
   ]
  }
 ],
 "metadata": {
  "kernelspec": {
   "display_name": "Python 3",
   "language": "python",
   "name": "python3"
  },
  "language_info": {
   "codemirror_mode": {
    "name": "ipython",
    "version": 3
   },
   "file_extension": ".py",
   "mimetype": "text/x-python",
   "name": "python",
   "nbconvert_exporter": "python",
   "pygments_lexer": "ipython3",
   "version": "3.8.3"
  }
 },
 "nbformat": 4,
 "nbformat_minor": 2
}
