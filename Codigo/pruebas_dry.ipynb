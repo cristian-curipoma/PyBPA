{
 "cells": [
  {
   "cell_type": "markdown",
   "metadata": {},
   "source": [
    "<h1 align=center> Jupyter Notebook for testing PyBPA package </h1>"
   ]
  },
  {
   "cell_type": "markdown",
   "metadata": {},
   "source": [
    "## Importing required libraries and PyBPA package\n",
    "<br></br>\n",
    "\n",
    "\n",
    "\n",
    "First we are going import all the required libraries for working in this notebook like the modules of **BPApy** package. Then we're going to look for the current version of Python used like all the dependent libraries (Pandas, Numpy, Scipy, Matplotlib and Seaborn)."
   ]
  },
  {
   "cell_type": "code",
   "execution_count": 7,
   "metadata": {
    "hide_input": false,
    "tags": []
   },
   "outputs": [],
   "source": [
    "import matplotlib as mpl\n",
    "import matplotlib.pyplot as plt\n",
    "import pandas as pd\n",
    "import numpy as np\n",
    "import scipy as st\n",
    "import bpapy\n",
    "\n",
    "from bpapy.Get_data import Get_dry_data, Get_prox_data, Get_elem_data\n",
    "from bpapy.Prepare_data import prep_dry_data"
   ]
  },
  {
   "cell_type": "code",
   "execution_count": 8,
   "metadata": {
    "scrolled": true
   },
   "outputs": [
    {
     "name": "stdout",
     "output_type": "stream",
     "text": [
      "Your current installed Python version is: Python 3.8.3\n",
      "Your current installed Pandas version is: 1.0.5\n",
      "Your current installed Numpy version is: 1.18.5\n",
      "Your current installed Scipy version is: 1.5.0\n",
      "Your current installed Matplotlib version is: 3.2.2\n"
     ]
    }
   ],
   "source": [
    "pv = !python --version\n",
    "print(f'Your current installed Python version is: {pv[0]}')\n",
    "print(f'Your current installed Pandas version is: {pd.__version__}')\n",
    "print(f'Your current installed Numpy version is: {np.__version__}')\n",
    "print(f'Your current installed Scipy version is: {st.__version__}')\n",
    "print(f'Your current installed Matplotlib version is: {mpl.__version__}')"
   ]
  },
  {
   "cell_type": "markdown",
   "metadata": {},
   "source": [
    "## Some Jupyter notebook settings"
   ]
  },
  {
   "cell_type": "code",
   "execution_count": 9,
   "metadata": {},
   "outputs": [],
   "source": [
    "pd.options.display.max_rows = 10\n",
    "pd.options.display.max_columns = 15"
   ]
  },
  {
   "cell_type": "markdown",
   "metadata": {},
   "source": [
    "## Create a Python PyBPA object for importing dry data"
   ]
  },
  {
   "cell_type": "code",
   "execution_count": 10,
   "metadata": {},
   "outputs": [],
   "source": [
    "Sec_air = Get_dry_data('./Datos/Secado/secado_sol_aguacate1.csv', ';')\n",
    "Sec_h_m = Get_dry_data('./Datos/Secado/secado_sol_aguacate1.csv', ';')\n",
    "Sec_h_h = Get_dry_data('./Datos/Secado/secado_sol_aguacate1.csv', ';')\n",
    "\n",
    "df_dry = Sec_air.Get_dry_df(repeats=3, surfaces=['Cemento', 'Tierra', 'Cesped'], lengths=['10 cm', '20 cm', '30 cm'])\n"
   ]
  },
  {
   "cell_type": "markdown",
   "metadata": {},
   "source": [
    "<h1 style=\"text-align:center\"><span style=\"color:green; font-family:Georgia\"> Pre-processing of data from solid biomass dryed in ambient temperatures</h1>\n",
    "<br>\n",
    "This section aims to pre-process data from solid biomass drying process, using different surfaces and air temperatures"
   ]
  },
  {
   "cell_type": "code",
   "execution_count": 5,
   "metadata": {},
   "outputs": [],
   "source": [
    "df_dry = Sec.Get_dry_df(repeats=3, surfaces=['Cemento', 'Tierra', 'Cesped'], lengths=['10 cm', '20 cm', '30 cm'])\n",
    "m = prep_dry_data(df_dry)"
   ]
  },
  {
   "cell_type": "code",
   "execution_count": 6,
   "metadata": {},
   "outputs": [],
   "source": [
    "data_stats = m.desc_stats()"
   ]
  },
  {
   "cell_type": "code",
   "execution_count": 7,
   "metadata": {},
   "outputs": [],
   "source": [
    "dry_info = m.Get_dry_data_info()"
   ]
  },
  {
   "cell_type": "code",
   "execution_count": 8,
   "metadata": {},
   "outputs": [],
   "source": [
    "m_in_time = m.moisture_in_time()"
   ]
  },
  {
   "cell_type": "code",
   "execution_count": 9,
   "metadata": {},
   "outputs": [],
   "source": [
    "fm_in_time = m.free_moisture()"
   ]
  },
  {
   "cell_type": "code",
   "execution_count": 10,
   "metadata": {},
   "outputs": [],
   "source": [
    "mr = m.moisture_rate()"
   ]
  },
  {
   "cell_type": "code",
   "execution_count": 11,
   "metadata": {},
   "outputs": [],
   "source": [
    "mr_surf = m.moisture_rate(method='mean_surf')"
   ]
  },
  {
   "cell_type": "code",
   "execution_count": 12,
   "metadata": {},
   "outputs": [],
   "source": [
    "mr_leng = m.moisture_rate(method='mean_leng')"
   ]
  },
  {
   "cell_type": "code",
   "execution_count": 6,
   "metadata": {},
   "outputs": [
    {
     "ename": "NameError",
     "evalue": "name 'm' is not defined",
     "output_type": "error",
     "traceback": [
      "\u001b[0;31m---------------------------------------------------------------------------\u001b[0m",
      "\u001b[0;31mNameError\u001b[0m                                 Traceback (most recent call last)",
      "\u001b[0;32m<ipython-input-6-5f2797904f73>\u001b[0m in \u001b[0;36m<module>\u001b[0;34m\u001b[0m\n\u001b[0;32m----> 1\u001b[0;31m \u001b[0mmr_leng_surf\u001b[0m \u001b[0;34m=\u001b[0m \u001b[0mm\u001b[0m\u001b[0;34m.\u001b[0m\u001b[0mmoisture_rate\u001b[0m\u001b[0;34m(\u001b[0m\u001b[0mmethod\u001b[0m\u001b[0;34m=\u001b[0m\u001b[0;34m'mean_leng_surf'\u001b[0m\u001b[0;34m)\u001b[0m\u001b[0;34m\u001b[0m\u001b[0;34m\u001b[0m\u001b[0m\n\u001b[0m",
      "\u001b[0;31mNameError\u001b[0m: name 'm' is not defined"
     ]
    }
   ],
   "source": [
    "mr_leng_surf = m.moisture_rate(method='mean_leng_surf')"
   ]
  },
  {
   "cell_type": "markdown",
   "metadata": {},
   "source": [
    "<h1 style=\"text-align:center\"> Pre-processing of data from solid biomass dryed in controled temperature inside an oven</h1>\n",
    "<br>\n",
    "This section aims to pre-process data from solid biomass drying process, using different surfaces and air temperatures"
   ]
  },
  {
   "cell_type": "code",
   "execution_count": null,
   "metadata": {},
   "outputs": [],
   "source": []
  }
 ],
 "metadata": {
  "kernelspec": {
   "display_name": "Python 3",
   "language": "python",
   "name": "python3"
  },
  "language_info": {
   "codemirror_mode": {
    "name": "ipython",
    "version": 3
   },
   "file_extension": ".py",
   "mimetype": "text/x-python",
   "name": "python",
   "nbconvert_exporter": "python",
   "pygments_lexer": "ipython3",
   "version": "3.8.3"
  }
 },
 "nbformat": 4,
 "nbformat_minor": 2
}
