{
 "cells": [
  {
   "cell_type": "code",
   "execution_count": 1,
   "metadata": {
    "tags": []
   },
   "outputs": [],
   "source": [
    "import matplotlib.pyplot as plt\n",
    "import pandas as pd\n",
    "import numpy as np\n",
    "\n",
    "from bpapy.Get_data import Get_dry_data, Get_prox_data, Get_elem_data\n",
    "from bpapy.Prepare_data import Dry"
   ]
  },
  {
   "cell_type": "code",
   "execution_count": 2,
   "metadata": {},
   "outputs": [],
   "source": [
    "Sec = Get_dry_data('./Datos/Secado/secado_sol_aguacate1.csv', ';')\n",
    "\n",
    "df_dry = Sec.Get_dry_df(repeats=3, surfaces=['Cemento', 'Tierra', 'Cesped'], lengths=['10 cm', '20 cm', '30 cm'])"
   ]
  },
  {
   "cell_type": "code",
   "execution_count": 7,
   "metadata": {},
   "outputs": [
    {
     "name": "stdout",
     "output_type": "stream",
     "text": [
      "Database has a total of 27 rows and 30 columns\n"
     ]
    }
   ],
   "source": [
    "#df_dry.ndim\n",
    "k = df_dry.shape\n",
    "#df_dry.transpose().describe().transpose()\n",
    "print('Database has a total of %s rows and %s columns' %(k[0], k[1]))"
   ]
  },
  {
   "cell_type": "code",
   "execution_count": null,
   "metadata": {},
   "outputs": [],
   "source": [
    "#Get_dry_data_info(df_dry)['Equilibrium_moisture'].shape\n",
    "#Get_moisture_in_time(df_dry).iloc[:,0].shape\n",
    "#df_dry\n",
    "#Get_free_moisture(df_dry)\n",
    "Get_moisture_rate(df_dry)\n"
   ]
  },
  {
   "cell_type": "code",
   "execution_count": null,
   "metadata": {},
   "outputs": [],
   "source": [
    "df1 = Get_moisture_in_time(df_dry)\n",
    "df2 = Get_free_moisture(df_dry)\n",
    "eq_h = Get_dry_data_info(df_dry)"
   ]
  },
  {
   "cell_type": "code",
   "execution_count": null,
   "metadata": {},
   "outputs": [],
   "source": [
    "y = df_dry.loc['10 cm', 'Cemento'].mean()\n",
    "x = np.linspace(0,len(y),len(y), endpoint = False)\n",
    "plt.plot(x,y)\n",
    "plt.title('Drying Behavior of abocato wood (10 cm over buildingrock) throught time')\n",
    "plt.xlabel('Time [h]')\n",
    "plt.ylabel('Weight of biomass [g]')"
   ]
  },
  {
   "cell_type": "code",
   "execution_count": null,
   "metadata": {},
   "outputs": [],
   "source": []
  }
 ],
 "metadata": {
  "kernelspec": {
   "display_name": "Python 3",
   "language": "python",
   "name": "python3"
  },
  "language_info": {
   "codemirror_mode": {
    "name": "ipython",
    "version": 3
   },
   "file_extension": ".py",
   "mimetype": "text/x-python",
   "name": "python",
   "nbconvert_exporter": "python",
   "pygments_lexer": "ipython3",
   "version": "3.8.3"
  }
 },
 "nbformat": 4,
 "nbformat_minor": 2
}
